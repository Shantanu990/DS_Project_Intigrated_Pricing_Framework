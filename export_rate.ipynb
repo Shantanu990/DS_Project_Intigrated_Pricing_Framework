{
 "cells": [
  {
   "cell_type": "code",
   "execution_count": 291,
   "id": "fa7437d2-aaf1-4a4b-a19c-d58e4fcb405e",
   "metadata": {},
   "outputs": [
    {
     "name": "stdout",
     "output_type": "stream",
     "text": [
      "PSQ regression:\n",
      "                            OLS Regression Results                            \n",
      "==============================================================================\n",
      "Dep. Variable:                    ISQ   R-squared:                       0.956\n",
      "Model:                            OLS   Adj. R-squared:                  0.941\n",
      "Method:                 Least Squares   F-statistic:                     64.65\n",
      "Date:                Wed, 08 Oct 2025   Prob (F-statistic):           5.12e-08\n",
      "Time:                        03:16:26   Log-Likelihood:                 57.728\n",
      "No. Observations:                  17   AIC:                            -105.5\n",
      "Df Residuals:                      12   BIC:                            -101.3\n",
      "Df Model:                           4                                         \n",
      "Covariance Type:            nonrobust                                         \n",
      "================================================================================\n",
      "                   coef    std err          t      P>|t|      [0.025      0.975]\n",
      "--------------------------------------------------------------------------------\n",
      "const            0.0718      0.013      5.517      0.000       0.043       0.100\n",
      "ISQ_lag          0.4765      0.101      4.706      0.001       0.256       0.697\n",
      "Rate diff IP    -0.1169      0.026     -4.519      0.001      -0.173      -0.061\n",
      "India RC        -0.0269      0.012     -2.194      0.049      -0.054      -0.000\n",
      "Pak RC+         -0.0330      0.011     -3.086      0.009      -0.056      -0.010\n",
      "==============================================================================\n",
      "Omnibus:                        0.439   Durbin-Watson:                   2.378\n",
      "Prob(Omnibus):                  0.803   Jarque-Bera (JB):                0.552\n",
      "Skew:                           0.236   Prob(JB):                        0.759\n",
      "Kurtosis:                       2.255   Cond. No.                         46.3\n",
      "==============================================================================\n",
      "\n",
      "Notes:\n",
      "[1] Standard Errors assume that the covariance matrix of the errors is correctly specified.\n",
      "PSQ parameters:\n",
      "{'const': 0.0718207258479792, 'ISQ_lag': 0.4764660952577646, 'Rate diff IP': -0.11690768080210748, 'India RC': -0.026947165855062807, 'Pak RC+': -0.03303537503923337}\n",
      "                 const   ISQ_lag  Rate diff IP  India RC   Pak RC+\n",
      "const         0.000169 -0.001254     -0.000216 -0.000033 -0.000042\n",
      "ISQ_lag      -0.001254  0.010251      0.002146  0.000289  0.000287\n",
      "Rate diff IP -0.000216  0.002146      0.000669  0.000081  0.000063\n",
      "India RC     -0.000033  0.000289      0.000081  0.000151 -0.000009\n",
      "Pak RC+      -0.000042  0.000287      0.000063 -0.000009  0.000115\n"
     ]
    },
    {
     "name": "stderr",
     "output_type": "stream",
     "text": [
      "C:\\Users\\sshan\\anaconda3\\Lib\\site-packages\\scipy\\stats\\_axis_nan_policy.py:531: UserWarning: kurtosistest only valid for n>=20 ... continuing anyway, n=17\n",
      "  res = hypotest_fun_out(*samples, **kwds)\n"
     ]
    }
   ],
   "source": [
    "import pandas as pd\n",
    "import statsmodels.api as sm\n",
    "# Load dataset for Pak rate, ISQ, ISV\n",
    "df = pd.read_excel(r\"C:\\Users\\sshan\\Desktop\\DS\\Project 4\\Ind Pak rice share.xlsx\", sheet_name = \"DF3\")\n",
    "df = df.iloc[0:].reset_index(drop = True) # Optional, if certain starting rows have to be ignored\n",
    "\n",
    "# define regression function\n",
    "def regression(y, Xvars):\n",
    "    X = df[Xvars]\n",
    "    X = sm.add_constant(X)\n",
    "    y = df[y]\n",
    "    model = sm.OLS(y,X).fit()\n",
    "    return model\n",
    "\n",
    "India_model = regression(\"ISQ\", [\"ISQ_lag\",\"Rate diff IP\",\"India RC\",\"Pak RC+\"]) #pass variables and execute regression \n",
    "cov_matrix = India_model.cov_params()\n",
    "print(\"PSQ regression:\")\n",
    "print(India_model.summary())\n",
    "print(\"PSQ parameters:\")\n",
    "print(India_model.params.to_dict())\n",
    "print(cov_matrix)"
   ]
  }
 ],
 "metadata": {
  "kernelspec": {
   "display_name": "Python [conda env:base] *",
   "language": "python",
   "name": "conda-base-py"
  },
  "language_info": {
   "codemirror_mode": {
    "name": "ipython",
    "version": 3
   },
   "file_extension": ".py",
   "mimetype": "text/x-python",
   "name": "python",
   "nbconvert_exporter": "python",
   "pygments_lexer": "ipython3",
   "version": "3.12.7"
  }
 },
 "nbformat": 4,
 "nbformat_minor": 5
}
