{
 "cells": [
  {
   "cell_type": "code",
   "execution_count": 1,
   "id": "e0ea0e0d-f0bd-4f2c-8e3c-df312f8243f8",
   "metadata": {},
   "outputs": [
    {
     "name": "stderr",
     "output_type": "stream",
     "text": [
      "GPU available: False, used: False\n"
     ]
    },
    {
     "name": "stdout",
     "output_type": "stream",
     "text": [
      "Date range: 2019-04-01 00:00:00 to 2025-08-01 00:00:00\n",
      "Number of rows: 77\n",
      "Missing months: DatetimeIndex([], dtype='datetime64[ns]', freq='MS')\n"
     ]
    },
    {
     "name": "stderr",
     "output_type": "stream",
     "text": [
      "TPU available: False, using: 0 TPU cores\n",
      "IPU available: False, using: 0 IPUs\n",
      "HPU available: False, using: 0 HPUs\n",
      "\n",
      "  | Name          | Type             | Params\n",
      "---------------------------------------------------\n",
      "0 | criterion     | MSELoss          | 0     \n",
      "1 | train_metrics | MetricCollection | 0     \n",
      "2 | val_metrics   | MetricCollection | 0     \n",
      "3 | stacks        | ModuleList       | 1.6 M \n",
      "---------------------------------------------------\n",
      "1.4 M     Trainable params\n",
      "153 K     Non-trainable params\n",
      "1.6 M     Total params\n",
      "6.337     Total estimated model params size (MB)\n"
     ]
    },
    {
     "data": {
      "application/vnd.jupyter.widget-view+json": {
       "model_id": "40ef9122389146209b922080ec87598a",
       "version_major": 2,
       "version_minor": 0
      },
      "text/plain": [
       "Training: |          | 0/? [00:00<?, ?it/s]"
      ]
     },
     "metadata": {},
     "output_type": "display_data"
    },
    {
     "name": "stderr",
     "output_type": "stream",
     "text": [
      "`Trainer.fit` stopped: `max_epochs=200` reached.\n",
      "GPU available: False, used: False\n",
      "TPU available: False, using: 0 TPU cores\n",
      "IPU available: False, using: 0 IPUs\n",
      "HPU available: False, using: 0 HPUs\n"
     ]
    },
    {
     "data": {
      "application/vnd.jupyter.widget-view+json": {
       "model_id": "84d8860f15d343cda42c426e96130619",
       "version_major": 2,
       "version_minor": 0
      },
      "text/plain": [
       "Predicting: |          | 0/? [00:00<?, ?it/s]"
      ]
     },
     "metadata": {},
     "output_type": "display_data"
    },
    {
     "name": "stdout",
     "output_type": "stream",
     "text": [
      "RMSE: nan\n",
      "MAE: nan\n",
      "Validation actual vs forecast:\n",
      "       forecast\n",
      "0  28896.107921\n",
      "1  31508.250948\n",
      "2  34158.505011\n",
      "3  34920.204025\n",
      "4  32998.796113\n",
      "5  34608.183261\n"
     ]
    },
    {
     "name": "stderr",
     "output_type": "stream",
     "text": [
      "C:\\Users\\sshan\\anaconda3\\Lib\\site-packages\\numpy\\core\\fromnumeric.py:3504: RuntimeWarning: Mean of empty slice.\n",
      "  return _methods._mean(a, axis=axis, dtype=dtype,\n",
      "C:\\Users\\sshan\\anaconda3\\Lib\\site-packages\\numpy\\core\\_methods.py:129: RuntimeWarning: invalid value encountered in scalar divide\n",
      "  ret = ret.dtype.type(ret / rcount)\n",
      "C:\\Users\\sshan\\anaconda3\\Lib\\site-packages\\numpy\\core\\fromnumeric.py:3504: RuntimeWarning: Mean of empty slice.\n",
      "  return _methods._mean(a, axis=axis, dtype=dtype,\n",
      "C:\\Users\\sshan\\anaconda3\\Lib\\site-packages\\numpy\\core\\_methods.py:129: RuntimeWarning: invalid value encountered in scalar divide\n",
      "  ret = ret.dtype.type(ret / rcount)\n"
     ]
    }
   ],
   "source": [
    "import pandas as pd\n",
    "from darts import TimeSeries\n",
    "from darts.models import NHiTSModel\n",
    "from darts.dataprocessing.transformers import Scaler\n",
    "from darts.metrics import rmse, mae\n",
    "\n",
    "# Load datatset for NHiTS prediction\n",
    "df = pd.read_excel(r\"C:\\Users\\sshan\\Desktop\\DS\\Project 4\\Mandi price nhits.xlsx\", sheet_name=\"nhits\")\n",
    "\n",
    "# Parse MM-YYYY column as datetime (first of month)\n",
    "df[\"date\"] = pd.to_datetime(df[\"MM-YYYY\"], format=\"%m-%Y\")\n",
    "\n",
    "# Sort and check continuity\n",
    "df = df.sort_values(\"date\").reset_index(drop=True)\n",
    "print(\"Date range:\", df[\"date\"].min(), \"to\", df[\"date\"].max())\n",
    "print(\"Number of rows:\", len(df))\n",
    "\n",
    "# Check for missing months\n",
    "expected_months = pd.date_range(df[\"date\"].min(), df[\"date\"].max(), freq=\"MS\")\n",
    "missing_months = expected_months.difference(df[\"date\"])\n",
    "print(\"Missing months:\", missing_months)\n",
    "\n",
    "# Choose target variable\n",
    "target_col = \"Modal Price Avg(Rs./MT)\"  # <-- adjust name if needed\n",
    "series = TimeSeries.from_dataframe(df, time_col=\"date\", value_cols=target_col, freq=\"MS\") #\n",
    "\n",
    "# Covariates (all other features except target/date)\n",
    "covariate_cols = [c for c in df.columns if c not in [\"date\",\"Month\", \"Year\",target_col, \"MM-YYYY\"]]\n",
    "covariates = TimeSeries.from_dataframe(df, time_col=\"date\", value_cols=covariate_cols, freq=\"MS\")\n",
    "\n",
    "# Scale target and covariables\n",
    "scaler_target = Scaler()\n",
    "scaler_cov = Scaler()\n",
    "series_scaled = scaler_target.fit_transform(series) # default scaling in darts is MinMax (0 to 1)\n",
    "covariates_scaled = scaler_cov.fit_transform(covariates)\n",
    "\n",
    "# Train/test split\n",
    "train, val = series_scaled[:-5], series_scaled[-5:]\n",
    "cov_train, cov_val = covariates_scaled[:-5], covariates_scaled[-5:]\n",
    "\n",
    "# Initialize N-HiTS\n",
    "model = NHiTSModel(\n",
    "    input_chunk_length=12,  # look back 12 months\n",
    "    output_chunk_length=6,  # predict 6 months\n",
    "    n_epochs=200,\n",
    "    random_state=42\n",
    ")\n",
    "\n",
    "# Fit the model\n",
    "model.fit(series=series_scaled, past_covariates=covariates_scaled, verbose=True)\n",
    "\n",
    "# Forecast next 6 months\n",
    "forecast = model.predict(n=6, series = series_scaled, past_covariates=covariates_scaled)\n",
    "\n",
    "# Evaluate\n",
    "print(\"RMSE:\", rmse(val, forecast))\n",
    "print(\"MAE:\", mae(val, forecast))\n",
    "\n",
    "# Inverse transform forecast for real values\n",
    "forecast_real = scaler_target.inverse_transform(forecast)\n",
    "val_real = scaler_target.inverse_transform(val)\n",
    "\n",
    "print(\"Validation actual vs forecast:\")\n",
    "print(pd.DataFrame({\"forecast\": forecast_real.values().flatten()}))"
   ]
  },
  {
   "cell_type": "code",
   "execution_count": null,
   "id": "02a85b66-dca0-4c4e-80a3-d6e9bf1526b8",
   "metadata": {},
   "outputs": [],
   "source": []
  }
 ],
 "metadata": {
  "kernelspec": {
   "display_name": "Python [conda env:base] *",
   "language": "python",
   "name": "conda-base-py"
  },
  "language_info": {
   "codemirror_mode": {
    "name": "ipython",
    "version": 3
   },
   "file_extension": ".py",
   "mimetype": "text/x-python",
   "name": "python",
   "nbconvert_exporter": "python",
   "pygments_lexer": "ipython3",
   "version": "3.12.7"
  }
 },
 "nbformat": 4,
 "nbformat_minor": 5
}
