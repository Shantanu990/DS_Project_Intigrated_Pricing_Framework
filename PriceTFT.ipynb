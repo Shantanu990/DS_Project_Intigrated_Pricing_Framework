{
 "cells": [
  {
   "cell_type": "code",
   "execution_count": 11,
   "id": "00e2c5cc-1ef1-4c33-bba7-9037f390c5b8",
   "metadata": {},
   "outputs": [
    {
     "name": "stdout",
     "output_type": "stream",
     "text": [
      "Date range: 2019-04-01 00:00:00 to 2025-08-01 00:00:00\n",
      "Number of rows: 77\n",
      "Missing months: DatetimeIndex([], dtype='datetime64[ns]', freq='MS')\n"
     ]
    },
    {
     "name": "stderr",
     "output_type": "stream",
     "text": [
      "GPU available: False, used: False\n",
      "TPU available: False, using: 0 TPU cores\n",
      "IPU available: False, using: 0 IPUs\n",
      "HPU available: False, using: 0 HPUs\n",
      "\n",
      "   | Name                              | Type                             | Params\n",
      "----------------------------------------------------------------------------------------\n",
      "0  | train_metrics                     | MetricCollection                 | 0     \n",
      "1  | val_metrics                       | MetricCollection                 | 0     \n",
      "2  | input_embeddings                  | _MultiEmbedding                  | 0     \n",
      "3  | static_covariates_vsn             | _VariableSelectionNetwork        | 0     \n",
      "4  | encoder_vsn                       | _VariableSelectionNetwork        | 63.3 K\n",
      "5  | decoder_vsn                       | _VariableSelectionNetwork        | 30.3 K\n",
      "6  | static_context_grn                | _GatedResidualNetwork            | 4.3 K \n",
      "7  | static_context_hidden_encoder_grn | _GatedResidualNetwork            | 4.3 K \n",
      "8  | static_context_cell_encoder_grn   | _GatedResidualNetwork            | 4.3 K \n",
      "9  | static_context_enrichment         | _GatedResidualNetwork            | 4.3 K \n",
      "10 | lstm_encoder                      | LSTM                             | 8.4 K \n",
      "11 | lstm_decoder                      | LSTM                             | 8.4 K \n",
      "12 | post_lstm_gan                     | _GateAddNorm                     | 2.2 K \n",
      "13 | static_enrichment_grn             | _GatedResidualNetwork            | 5.3 K \n",
      "14 | multihead_attn                    | _InterpretableMultiHeadAttention | 2.6 K \n",
      "15 | post_attn_gan                     | _GateAddNorm                     | 2.2 K \n",
      "16 | feed_forward_block                | _GatedResidualNetwork            | 4.3 K \n",
      "17 | pre_output_gan                    | _GateAddNorm                     | 2.2 K \n",
      "18 | output_layer                      | Linear                           | 561   \n",
      "----------------------------------------------------------------------------------------\n",
      "146 K     Trainable params\n",
      "0         Non-trainable params\n",
      "146 K     Total params\n",
      "0.586     Total estimated model params size (MB)\n"
     ]
    },
    {
     "data": {
      "application/vnd.jupyter.widget-view+json": {
       "model_id": "46ca09e72f1346c5baf455801533b7f8",
       "version_major": 2,
       "version_minor": 0
      },
      "text/plain": [
       "Training: |          | 0/? [00:00<?, ?it/s]"
      ]
     },
     "metadata": {},
     "output_type": "display_data"
    },
    {
     "name": "stderr",
     "output_type": "stream",
     "text": [
      "`Trainer.fit` stopped: `max_epochs=200` reached.\n",
      "GPU available: False, used: False\n",
      "TPU available: False, using: 0 TPU cores\n",
      "IPU available: False, using: 0 IPUs\n",
      "HPU available: False, using: 0 HPUs\n"
     ]
    },
    {
     "data": {
      "application/vnd.jupyter.widget-view+json": {
       "model_id": "eb8a625b0c73476d979fa8f0ae572d85",
       "version_major": 2,
       "version_minor": 0
      },
      "text/plain": [
       "Predicting: |          | 0/? [00:00<?, ?it/s]"
      ]
     },
     "metadata": {},
     "output_type": "display_data"
    },
    {
     "name": "stdout",
     "output_type": "stream",
     "text": [
      "RMSE: 0.07367524734608594\n",
      "MAE: 0.06088761979157916\n",
      "Validation actual vs forecast:\n",
      "                  actual      forecast\n",
      "date                                  \n",
      "2024-10-01  33780.805687  36849.437993\n",
      "2024-11-01  39628.553971  39287.683171\n",
      "2024-12-01  38958.850575  39474.103135\n",
      "2025-01-01  36224.605809  37138.162822\n",
      "2025-02-01  35315.397490  38487.776680\n",
      "2025-03-01  34637.175141  37071.444474\n"
     ]
    }
   ],
   "source": [
    "import pandas as pd\n",
    "from darts import TimeSeries\n",
    "from darts.models import TFTModel\n",
    "from darts.dataprocessing.transformers import Scaler\n",
    "from darts.metrics import rmse, mae\n",
    "\n",
    "# Load dataset for mandi price prediction\n",
    "df = pd.read_excel(r\"C:\\Users\\sshan\\Desktop\\DS\\Project 4\\Mandi price nhits.xlsx\", sheet_name=\"nhits\")\n",
    "\n",
    "# Parse MM-YYYY column as datetime (first of month)\n",
    "df[\"date\"] = pd.to_datetime(df[\"MM-YYYY\"], format=\"%m-%Y\")\n",
    "\n",
    "# Sort and check continuity for TFT modeling\n",
    "df = df.sort_values(\"date\").reset_index(drop=True)\n",
    "print(\"Date range:\", df[\"date\"].min(), \"to\", df[\"date\"].max())\n",
    "print(\"Number of rows:\", len(df))\n",
    "\n",
    "# Check for missing months\n",
    "expected_months = pd.date_range(df[\"date\"].min(), df[\"date\"].max(), freq=\"MS\")\n",
    "missing_months = expected_months.difference(df[\"date\"])\n",
    "print(\"Missing months:\", missing_months)\n",
    "\n",
    "# Set target variable\n",
    "target_col = \"Modal Price Avg(Rs./MT)\"\n",
    "series = TimeSeries.from_dataframe(df, time_col=\"date\", value_cols=target_col, freq=\"MS\")\n",
    "\n",
    "# Set Covariates (all other features)\n",
    "covariate_cols = [c for c in df.columns if c not in [\"date\", \"Month\", \"Year\", target_col, \"MM-YYYY\"]]\n",
    "covariates = TimeSeries.from_dataframe(df, time_col=\"date\", value_cols=covariate_cols, freq=\"MS\")\n",
    "\n",
    "# Scaling\n",
    "scaler_target = Scaler()\n",
    "scaler_cov = Scaler()\n",
    "\n",
    "series_scaled = scaler_target.fit_transform(series)\n",
    "covariates_scaled = scaler_cov.fit_transform(covariates)\n",
    "\n",
    "# Train/val split\n",
    "train, val = series_scaled[:-11], series_scaled[-11:-5]\n",
    "cov_train, cov_val = covariates_scaled[:-11], covariates_scaled[-11:-5]\n",
    "\n",
    "# Initialize TFT\n",
    "model = TFTModel(\n",
    "    input_chunk_length=12,      # look back 12 months\n",
    "    output_chunk_length=6,      # forecast 6 months\n",
    "    hidden_size=32,             # model size (tuneable)\n",
    "    lstm_layers=1,              # number of LSTM layers\n",
    "    num_attention_heads=4,      # multi-head attention\n",
    "    dropout=0.1,\n",
    "    batch_size=32,\n",
    "    n_epochs=200,\n",
    "    add_relative_index=True,    # helps with temporal position encoding\n",
    "    random_state=42\n",
    ")\n",
    "\n",
    "# Fit model\n",
    "model.fit(\n",
    "    series=train,\n",
    "    past_covariates=covariates_scaled, # use your scaled covariates as past inputs\n",
    "    future_covariates=covariates_scaled,\n",
    "    verbose=True\n",
    ")\n",
    "\n",
    "# Forecast next 6 months\n",
    "forecast = model.predict(n=6, past_covariates=covariates_scaled, future_covariates=covariates_scaled)\n",
    "\n",
    "# Evaluate\n",
    "print(\"RMSE:\", rmse(val, forecast))\n",
    "print(\"MAE:\", mae(val, forecast))\n",
    "\n",
    "# Inverse transform for actual values\n",
    "forecast_real = scaler_target.inverse_transform(forecast)\n",
    "val_real = scaler_target.inverse_transform(val)\n",
    "\n",
    "print(\"Validation actual vs forecast:\")\n",
    "print(pd.DataFrame({\n",
    "    \"actual\": val_real.values().flatten(),\n",
    "    \"forecast\": forecast_real.values().flatten()\n",
    "}, index=val_real.time_index))"
   ]
  }
 ],
 "metadata": {
  "kernelspec": {
   "display_name": "Python [conda env:base] *",
   "language": "python",
   "name": "conda-base-py"
  },
  "language_info": {
   "codemirror_mode": {
    "name": "ipython",
    "version": 3
   },
   "file_extension": ".py",
   "mimetype": "text/x-python",
   "name": "python",
   "nbconvert_exporter": "python",
   "pygments_lexer": "ipython3",
   "version": "3.12.7"
  }
 },
 "nbformat": 4,
 "nbformat_minor": 5
}
