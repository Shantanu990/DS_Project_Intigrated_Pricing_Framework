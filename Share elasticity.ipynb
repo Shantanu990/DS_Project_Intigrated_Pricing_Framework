{
 "cells": [
  {
   "cell_type": "code",
   "execution_count": 30,
   "id": "67b0c4f2-bfec-4beb-a491-6c08fe58d3d1",
   "metadata": {},
   "outputs": [
    {
     "name": "stdout",
     "output_type": "stream",
     "text": [
      "Share regression:\n",
      "                            OLS Regression Results                            \n",
      "==============================================================================\n",
      "Dep. Variable:        Haryana % share   R-squared:                       0.940\n",
      "Model:                            OLS   Adj. R-squared:                  0.915\n",
      "Method:                 Least Squares   F-statistic:                     36.82\n",
      "Date:                Thu, 16 Oct 2025   Prob (F-statistic):           0.000117\n",
      "Time:                        10:04:51   Log-Likelihood:                 26.895\n",
      "No. Observations:                  11   AIC:                            -45.79\n",
      "Df Residuals:                       7   BIC:                            -44.20\n",
      "Df Model:                           3                                         \n",
      "Covariance Type:            nonrobust                                         \n",
      "=====================================================================================\n",
      "                        coef    std err          t      P>|t|      [0.025      0.975]\n",
      "-------------------------------------------------------------------------------------\n",
      "const                 0.0773      0.022      3.540      0.009       0.026       0.129\n",
      "Haryana share lag     0.6869      0.087      7.865      0.000       0.480       0.893\n",
      "PR                   -0.3467      0.075     -4.633      0.002      -0.524      -0.170\n",
      "HS diff lag           0.8944      0.190      4.705      0.002       0.445       1.344\n",
      "==============================================================================\n",
      "Omnibus:                        0.920   Durbin-Watson:                   3.090\n",
      "Prob(Omnibus):                  0.631   Jarque-Bera (JB):                0.753\n",
      "Skew:                          -0.519   Prob(JB):                        0.686\n",
      "Kurtosis:                       2.248   Cond. No.                         25.4\n",
      "==============================================================================\n",
      "\n",
      "Notes:\n",
      "[1] Standard Errors assume that the covariance matrix of the errors is correctly specified.\n",
      "Share parameters:\n",
      "{'const': 0.07733334147940536, 'Haryana share lag': 0.6868533487250598, 'PR': -0.3467359595898496, 'HS diff lag': 0.8943988249500314}\n",
      "                      const  Haryana share lag        PR  HS diff lag\n",
      "const              0.000477          -0.001764 -0.000078     0.000404\n",
      "Haryana share lag -0.001764           0.007627  0.000535    -0.003694\n",
      "PR                -0.000078           0.000535  0.005601    -0.007415\n",
      "HS diff lag        0.000404          -0.003694 -0.007415     0.036133\n"
     ]
    },
    {
     "name": "stderr",
     "output_type": "stream",
     "text": [
      "C:\\Users\\sshan\\anaconda3\\Lib\\site-packages\\scipy\\stats\\_axis_nan_policy.py:531: UserWarning: kurtosistest only valid for n>=20 ... continuing anyway, n=11\n",
      "  res = hypotest_fun_out(*samples, **kwds)\n"
     ]
    }
   ],
   "source": [
    "import pandas as pd\n",
    "import statsmodels.api as sm\n",
    "df = pd.read_excel(r\"C:\\Users\\sshan\\Desktop\\DS\\Project 4\\State export.xlsx\", sheet_name = \"Main\") # load dataset for state-level regression\n",
    "df = df.iloc[3:].reset_index(drop = True) # optional to ignore certain starting rows \n",
    "df[\"PR\"] = df[\"HRC\"]*0.1-df[\"MPRC\"]*0.8-df[\"PRC\"]*0.1 # create a composite price change variable\n",
    "# define regression function\n",
    "def regression(y, Xvars):\n",
    "    X = df[Xvars]\n",
    "    X = sm.add_constant(X)\n",
    "    y = df[y]\n",
    "    model = sm.OLS(y,X).fit()\n",
    "    return model\n",
    "Share_model = regression(\"Haryana % share\", [\"Haryana share lag\",\"PR\",\"HS diff lag\"]) # pass variables and execute regression\n",
    "cov_matrix = Share_model.cov_params()\n",
    "print(\"Share regression:\")\n",
    "print(Share_model.summary())\n",
    "print(\"Share parameters:\")\n",
    "print(Share_model.params.to_dict())\n",
    "print(cov_matrix)"
   ]
  },
  {
   "cell_type": "code",
   "execution_count": 34,
   "id": "a8b26e66-5108-44b9-a3ca-cb3153840aad",
   "metadata": {},
   "outputs": [
    {
     "name": "stdout",
     "output_type": "stream",
     "text": [
      "Share regression:\n",
      "                            OLS Regression Results                            \n",
      "==============================================================================\n",
      "Dep. Variable:             MP % share   R-squared:                       0.884\n",
      "Model:                            OLS   Adj. R-squared:                  0.835\n",
      "Method:                 Least Squares   F-statistic:                     17.87\n",
      "Date:                Thu, 16 Oct 2025   Prob (F-statistic):            0.00116\n",
      "Time:                        10:39:10   Log-Likelihood:                 29.265\n",
      "No. Observations:                  11   AIC:                            -50.53\n",
      "Df Residuals:                       7   BIC:                            -48.94\n",
      "Df Model:                           3                                         \n",
      "Covariance Type:            nonrobust                                         \n",
      "================================================================================\n",
      "                   coef    std err          t      P>|t|      [0.025      0.975]\n",
      "--------------------------------------------------------------------------------\n",
      "const            0.1553      0.053      2.922      0.022       0.030       0.281\n",
      "MP share lag     0.6630      0.137      4.855      0.002       0.340       0.986\n",
      "HSC             -0.7364      0.124     -5.924      0.001      -1.030      -0.442\n",
      "MPS diff lag    -0.1563      0.087     -1.800      0.115      -0.362       0.049\n",
      "==============================================================================\n",
      "Omnibus:                        0.418   Durbin-Watson:                   2.046\n",
      "Prob(Omnibus):                  0.811   Jarque-Bera (JB):                0.489\n",
      "Skew:                           0.152   Prob(JB):                        0.783\n",
      "Kurtosis:                       2.013   Cond. No.                         25.2\n",
      "==============================================================================\n",
      "\n",
      "Notes:\n",
      "[1] Standard Errors assume that the covariance matrix of the errors is correctly specified.\n",
      "Share parameters:\n",
      "{'const': 0.15525705659831263, 'MP share lag': 0.6629757440485329, 'HSC': -0.7363503679229529, 'MPS diff lag': -0.15631826828587192}\n",
      "                 const  MP share lag       HSC  MPS diff lag\n",
      "const         0.002823     -0.007194  0.000752      0.000370\n",
      "MP share lag -0.007194      0.018648 -0.002413     -0.001458\n",
      "HSC           0.000752     -0.002413  0.015449     -0.000266\n",
      "MPS diff lag  0.000370     -0.001458 -0.000266      0.007541\n"
     ]
    },
    {
     "name": "stderr",
     "output_type": "stream",
     "text": [
      "C:\\Users\\sshan\\anaconda3\\Lib\\site-packages\\scipy\\stats\\_axis_nan_policy.py:531: UserWarning: kurtosistest only valid for n>=20 ... continuing anyway, n=11\n",
      "  res = hypotest_fun_out(*samples, **kwds)\n"
     ]
    }
   ],
   "source": [
    "import pandas as pd\n",
    "import statsmodels.api as sm\n",
    "df = pd.read_excel(r\"C:\\Users\\sshan\\Desktop\\DS\\Project 4\\State export.xlsx\", sheet_name = \"Main\")\n",
    "df = df.iloc[3:].reset_index(drop = True)\n",
    "df[\"PR\"] = df[\"MPRC\"]*0.7-df[\"PRC\"]*0.1-df[\"HRC\"]*0.2\n",
    "df[\"MP diff\"] = df[\"MP rate\"]-df[\"Punjab rate\"]\n",
    "def regression(y, Xvars):\n",
    "    X = df[Xvars]\n",
    "    X = sm.add_constant(X)\n",
    "    y = df[y]\n",
    "    model = sm.OLS(y,X).fit()\n",
    "    return model\n",
    "Share_model = regression(\"MP % share\", [\"MP share lag\",\"HSC\",\"MPS diff lag\"])\n",
    "cov_matrix = Share_model.cov_params()\n",
    "print(\"Share regression:\")\n",
    "print(Share_model.summary())\n",
    "print(\"Share parameters:\")\n",
    "print(Share_model.params.to_dict())\n",
    "print(cov_matrix)"
   ]
  },
  {
   "cell_type": "code",
   "execution_count": 22,
   "id": "2ed9d04b-1598-44bb-a881-73bdf8c02386",
   "metadata": {},
   "outputs": [
    {
     "name": "stdout",
     "output_type": "stream",
     "text": [
      "LOOCV mse: 0.0013\n",
      "LOOCV rmse: 0.0364\n",
      "      Actual      Pred\n",
      "0   0.185326  0.171290\n",
      "1   0.130844  0.196785\n",
      "2   0.124708  0.101487\n",
      "3   0.149670  0.185275\n",
      "4   0.249910  0.230651\n",
      "5   0.341827  0.328261\n",
      "6   0.371019  0.316277\n",
      "7   0.347550  0.410319\n",
      "8   0.294788  0.276320\n",
      "9   0.298957  0.282850\n",
      "10  0.262321  0.272281\n"
     ]
    },
    {
     "name": "stderr",
     "output_type": "stream",
     "text": [
      "C:\\Users\\sshan\\AppData\\Local\\Temp\\ipykernel_14888\\285003172.py:28: FutureWarning: Calling float on a single element Series is deprecated and will raise a TypeError in the future. Use float(ser.iloc[0]) instead\n",
      "  y_hat = float(model_i.predict(x_test))\n",
      "C:\\Users\\sshan\\AppData\\Local\\Temp\\ipykernel_14888\\285003172.py:28: FutureWarning: Calling float on a single element Series is deprecated and will raise a TypeError in the future. Use float(ser.iloc[0]) instead\n",
      "  y_hat = float(model_i.predict(x_test))\n",
      "C:\\Users\\sshan\\AppData\\Local\\Temp\\ipykernel_14888\\285003172.py:28: FutureWarning: Calling float on a single element Series is deprecated and will raise a TypeError in the future. Use float(ser.iloc[0]) instead\n",
      "  y_hat = float(model_i.predict(x_test))\n",
      "C:\\Users\\sshan\\AppData\\Local\\Temp\\ipykernel_14888\\285003172.py:28: FutureWarning: Calling float on a single element Series is deprecated and will raise a TypeError in the future. Use float(ser.iloc[0]) instead\n",
      "  y_hat = float(model_i.predict(x_test))\n",
      "C:\\Users\\sshan\\AppData\\Local\\Temp\\ipykernel_14888\\285003172.py:28: FutureWarning: Calling float on a single element Series is deprecated and will raise a TypeError in the future. Use float(ser.iloc[0]) instead\n",
      "  y_hat = float(model_i.predict(x_test))\n",
      "C:\\Users\\sshan\\AppData\\Local\\Temp\\ipykernel_14888\\285003172.py:28: FutureWarning: Calling float on a single element Series is deprecated and will raise a TypeError in the future. Use float(ser.iloc[0]) instead\n",
      "  y_hat = float(model_i.predict(x_test))\n",
      "C:\\Users\\sshan\\AppData\\Local\\Temp\\ipykernel_14888\\285003172.py:28: FutureWarning: Calling float on a single element Series is deprecated and will raise a TypeError in the future. Use float(ser.iloc[0]) instead\n",
      "  y_hat = float(model_i.predict(x_test))\n",
      "C:\\Users\\sshan\\AppData\\Local\\Temp\\ipykernel_14888\\285003172.py:28: FutureWarning: Calling float on a single element Series is deprecated and will raise a TypeError in the future. Use float(ser.iloc[0]) instead\n",
      "  y_hat = float(model_i.predict(x_test))\n",
      "C:\\Users\\sshan\\AppData\\Local\\Temp\\ipykernel_14888\\285003172.py:28: FutureWarning: Calling float on a single element Series is deprecated and will raise a TypeError in the future. Use float(ser.iloc[0]) instead\n",
      "  y_hat = float(model_i.predict(x_test))\n",
      "C:\\Users\\sshan\\AppData\\Local\\Temp\\ipykernel_14888\\285003172.py:28: FutureWarning: Calling float on a single element Series is deprecated and will raise a TypeError in the future. Use float(ser.iloc[0]) instead\n",
      "  y_hat = float(model_i.predict(x_test))\n",
      "C:\\Users\\sshan\\AppData\\Local\\Temp\\ipykernel_14888\\285003172.py:28: FutureWarning: Calling float on a single element Series is deprecated and will raise a TypeError in the future. Use float(ser.iloc[0]) instead\n",
      "  y_hat = float(model_i.predict(x_test))\n"
     ]
    }
   ],
   "source": [
    "import pandas as pd\n",
    "import statsmodels.api as sm\n",
    "import numpy as np\n",
    "\n",
    "df = pd.read_excel(r\"C:\\Users\\sshan\\Desktop\\DS\\Project 4\\State export.xlsx\", sheet_name = \"Main\")\n",
    "df = df.iloc[3:].reset_index(drop = True)\n",
    "df[\"PR\"] = df[\"HRC\"]*0.1-df[\"MPRC\"]*0.8-df[\"PRC\"]*0.1\n",
    "\n",
    "y_col = \"Haryana % share\"\n",
    "x_cols = [\"Haryana share lag\",\"PR\",\"HS diff lag\"]\n",
    "\n",
    "y_true = []\n",
    "y_pred = []\n",
    "\n",
    "#Leave one out cross validation\n",
    "for i in range(len(df)):\n",
    "    train = df.drop(i).reset_index(drop = True)\n",
    "    test = df.iloc[[i]].reset_index(drop = True)\n",
    "\n",
    "    x_train = sm.add_constant(train[x_cols], has_constant = \"add\")\n",
    "    y_train = train[y_col]\n",
    "\n",
    "    x_test = sm.add_constant(test[x_cols], has_constant = \"add\")\n",
    "    y_test = test[y_col].iloc[0]\n",
    "\n",
    "    model_i = sm.OLS(y_train, x_train).fit()\n",
    "\n",
    "    y_hat = float(model_i.predict(x_test))\n",
    "    y_true.append(y_test)\n",
    "    y_pred.append(y_hat)\n",
    "\n",
    "error = np.array(y_true) - np.array(y_pred)\n",
    "mse = np.mean(error**2)\n",
    "rmse = np.sqrt(mse)\n",
    "\n",
    "print(f\"LOOCV mse: {mse:.4f}\")\n",
    "print(f\"LOOCV rmse: {rmse:.4f}\")\n",
    "\n",
    "result_df = pd.DataFrame({\"Actual\": y_true, \"Pred\": y_pred})\n",
    "print(result_df)"
   ]
  },
  {
   "cell_type": "code",
   "execution_count": null,
   "id": "dd63e9c7-8041-4725-84fa-8523e731a757",
   "metadata": {},
   "outputs": [],
   "source": []
  }
 ],
 "metadata": {
  "kernelspec": {
   "display_name": "Python [conda env:base] *",
   "language": "python",
   "name": "conda-base-py"
  },
  "language_info": {
   "codemirror_mode": {
    "name": "ipython",
    "version": 3
   },
   "file_extension": ".py",
   "mimetype": "text/x-python",
   "name": "python",
   "nbconvert_exporter": "python",
   "pygments_lexer": "ipython3",
   "version": "3.12.7"
  }
 },
 "nbformat": 4,
 "nbformat_minor": 5
}
