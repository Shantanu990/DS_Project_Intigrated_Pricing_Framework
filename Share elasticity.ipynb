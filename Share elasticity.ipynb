{
 "cells": [
  {
   "cell_type": "code",
   "execution_count": 7,
   "id": "67b0c4f2-bfec-4beb-a491-6c08fe58d3d1",
   "metadata": {},
   "outputs": [
    {
     "name": "stdout",
     "output_type": "stream",
     "text": [
      "Share regression:\n",
      "                            OLS Regression Results                            \n",
      "==============================================================================\n",
      "Dep. Variable:        Haryana % share   R-squared:                       0.940\n",
      "Model:                            OLS   Adj. R-squared:                  0.915\n",
      "Method:                 Least Squares   F-statistic:                     13.91\n",
      "Date:                Sat, 18 Oct 2025   Prob (F-statistic):            0.00246\n",
      "Time:                        13:59:02   Log-Likelihood:                 26.895\n",
      "No. Observations:                  11   AIC:                            -45.79\n",
      "Df Residuals:                       7   BIC:                            -44.20\n",
      "Df Model:                           3                                         \n",
      "Covariance Type:                  HC3                                         \n",
      "=====================================================================================\n",
      "                        coef    std err          z      P>|z|      [0.025      0.975]\n",
      "-------------------------------------------------------------------------------------\n",
      "const                 0.0773      0.028      2.728      0.006       0.022       0.133\n",
      "Haryana share lag     0.6869      0.120      5.714      0.000       0.451       0.922\n",
      "PR                   -0.3467      0.139     -2.503      0.012      -0.618      -0.075\n",
      "HS diff lag           0.8944      0.172      5.205      0.000       0.558       1.231\n",
      "==============================================================================\n",
      "Omnibus:                        0.920   Durbin-Watson:                   3.090\n",
      "Prob(Omnibus):                  0.631   Jarque-Bera (JB):                0.753\n",
      "Skew:                          -0.519   Prob(JB):                        0.686\n",
      "Kurtosis:                       2.248   Cond. No.                         25.4\n",
      "==============================================================================\n",
      "\n",
      "Notes:\n",
      "[1] Standard Errors are heteroscedasticity robust (HC3)\n",
      "Share parameters:\n",
      "{'const': 0.07733334147940536, 'Haryana share lag': 0.6868533487250598, 'PR': -0.3467359595898496, 'HS diff lag': 0.8943988249500314}\n",
      "                      const  Haryana share lag        PR  HS diff lag\n",
      "const              0.000804          -0.003202  0.001993    -0.001964\n",
      "Haryana share lag -0.003202           0.014450 -0.006742     0.009065\n",
      "PR                 0.001993          -0.006742  0.019193    -0.007367\n",
      "HS diff lag       -0.001964           0.009065 -0.007367     0.029522\n"
     ]
    },
    {
     "name": "stderr",
     "output_type": "stream",
     "text": [
      "C:\\Users\\sshan\\anaconda3\\Lib\\site-packages\\scipy\\stats\\_axis_nan_policy.py:531: UserWarning: kurtosistest only valid for n>=20 ... continuing anyway, n=11\n",
      "  res = hypotest_fun_out(*samples, **kwds)\n"
     ]
    }
   ],
   "source": [
    "import pandas as pd\n",
    "import statsmodels.api as sm\n",
    "df = pd.read_excel(r\"C:\\Users\\sshan\\Desktop\\DS\\Project 4\\State export.xlsx\", sheet_name = \"Main\") # load dataset for state-level regression\n",
    "df = df.iloc[3:].reset_index(drop = True) # optional to ignore certain starting rows \n",
    "df[\"PR\"] = df[\"HRC\"]*0.1-df[\"MPRC\"]*0.8-df[\"PRC\"]*0.1 # create a composite price change variable\n",
    "# define regression function\n",
    "def regression(y, Xvars):\n",
    "    X = df[Xvars]\n",
    "    X = sm.add_constant(X)\n",
    "    y = df[y]\n",
    "    model = sm.OLS(y,X).fit(cov_type='HC3')\n",
    "    return model\n",
    "Share_model = regression(\"Haryana % share\", [\"Haryana share lag\",\"PR\",\"HS diff lag\"]) # pass variables and execute regression\n",
    "cov_matrix = Share_model.cov_params()\n",
    "print(\"Share regression:\")\n",
    "print(Share_model.summary())\n",
    "print(\"Share parameters:\")\n",
    "print(Share_model.params.to_dict())\n",
    "print(cov_matrix)"
   ]
  },
  {
   "cell_type": "code",
   "execution_count": 19,
   "id": "a8b26e66-5108-44b9-a3ca-cb3153840aad",
   "metadata": {},
   "outputs": [
    {
     "name": "stdout",
     "output_type": "stream",
     "text": [
      "Share regression:\n",
      "                            OLS Regression Results                            \n",
      "==============================================================================\n",
      "Dep. Variable:             MP % share   R-squared:                       0.831\n",
      "Model:                            OLS   Adj. R-squared:                  0.789\n",
      "Method:                 Least Squares   F-statistic:                     10.43\n",
      "Date:                Sun, 19 Oct 2025   Prob (F-statistic):            0.00590\n",
      "Time:                        23:10:58   Log-Likelihood:                 27.172\n",
      "No. Observations:                  11   AIC:                            -48.34\n",
      "Df Residuals:                       8   BIC:                            -47.15\n",
      "Df Model:                           2                                         \n",
      "Covariance Type:                  HC3                                         \n",
      "================================================================================\n",
      "                   coef    std err          z      P>|z|      [0.025      0.975]\n",
      "--------------------------------------------------------------------------------\n",
      "const            0.1629      0.074      2.195      0.028       0.017       0.308\n",
      "MP share lag     0.6327      0.189      3.356      0.001       0.263       1.002\n",
      "HSC             -0.7419      0.183     -4.061      0.000      -1.100      -0.384\n",
      "==============================================================================\n",
      "Omnibus:                        0.714   Durbin-Watson:                   2.202\n",
      "Prob(Omnibus):                  0.700   Jarque-Bera (JB):                0.506\n",
      "Skew:                          -0.454   Prob(JB):                        0.777\n",
      "Kurtosis:                       2.472   Cond. No.                         25.0\n",
      "==============================================================================\n",
      "\n",
      "Notes:\n",
      "[1] Standard Errors are heteroscedasticity robust (HC3)\n",
      "Share parameters:\n",
      "{'const': 0.1629373813570772, 'MP share lag': 0.6327414798583315, 'HSC': -0.7418710299191632}\n",
      "                 const  MP share lag       HSC\n",
      "const         0.005508     -0.013884  0.003977\n",
      "MP share lag -0.013884      0.035540 -0.011785\n",
      "HSC           0.003977     -0.011785  0.033381\n"
     ]
    },
    {
     "name": "stderr",
     "output_type": "stream",
     "text": [
      "C:\\Users\\sshan\\anaconda3\\Lib\\site-packages\\scipy\\stats\\_axis_nan_policy.py:531: UserWarning: kurtosistest only valid for n>=20 ... continuing anyway, n=11\n",
      "  res = hypotest_fun_out(*samples, **kwds)\n"
     ]
    }
   ],
   "source": [
    "import pandas as pd\n",
    "import statsmodels.api as sm\n",
    "df = pd.read_excel(r\"C:\\Users\\sshan\\Desktop\\DS\\Project 4\\State export.xlsx\", sheet_name = \"Main\")\n",
    "df = df.iloc[3:].reset_index(drop = True)\n",
    "df[\"PR\"] = df[\"MPRC\"]*0.7-df[\"PRC\"]*0.1-df[\"HRC\"]*0.2\n",
    "df[\"MP diff\"] = df[\"MP rate\"]-df[\"Punjab rate\"]\n",
    "def regression(y, Xvars):\n",
    "    X = df[Xvars]\n",
    "    X = sm.add_constant(X)\n",
    "    y = df[y]\n",
    "    model = sm.OLS(y,X).fit(cov_type = 'HC3')\n",
    "    return model\n",
    "Share_model = regression(\"MP % share\", [\"MP share lag\",\"HSC\"])\n",
    "cov_matrix = Share_model.cov_params()\n",
    "print(\"Share regression:\")\n",
    "print(Share_model.summary())\n",
    "print(\"Share parameters:\")\n",
    "print(Share_model.params.to_dict())\n",
    "print(cov_matrix)"
   ]
  },
  {
   "cell_type": "code",
   "execution_count": 22,
   "id": "2ed9d04b-1598-44bb-a881-73bdf8c02386",
   "metadata": {},
   "outputs": [
    {
     "name": "stdout",
     "output_type": "stream",
     "text": [
      "LOOCV mse: 0.0013\n",
      "LOOCV rmse: 0.0364\n",
      "      Actual      Pred\n",
      "0   0.185326  0.171290\n",
      "1   0.130844  0.196785\n",
      "2   0.124708  0.101487\n",
      "3   0.149670  0.185275\n",
      "4   0.249910  0.230651\n",
      "5   0.341827  0.328261\n",
      "6   0.371019  0.316277\n",
      "7   0.347550  0.410319\n",
      "8   0.294788  0.276320\n",
      "9   0.298957  0.282850\n",
      "10  0.262321  0.272281\n"
     ]
    },
    {
     "name": "stderr",
     "output_type": "stream",
     "text": [
      "C:\\Users\\sshan\\AppData\\Local\\Temp\\ipykernel_14888\\285003172.py:28: FutureWarning: Calling float on a single element Series is deprecated and will raise a TypeError in the future. Use float(ser.iloc[0]) instead\n",
      "  y_hat = float(model_i.predict(x_test))\n",
      "C:\\Users\\sshan\\AppData\\Local\\Temp\\ipykernel_14888\\285003172.py:28: FutureWarning: Calling float on a single element Series is deprecated and will raise a TypeError in the future. Use float(ser.iloc[0]) instead\n",
      "  y_hat = float(model_i.predict(x_test))\n",
      "C:\\Users\\sshan\\AppData\\Local\\Temp\\ipykernel_14888\\285003172.py:28: FutureWarning: Calling float on a single element Series is deprecated and will raise a TypeError in the future. Use float(ser.iloc[0]) instead\n",
      "  y_hat = float(model_i.predict(x_test))\n",
      "C:\\Users\\sshan\\AppData\\Local\\Temp\\ipykernel_14888\\285003172.py:28: FutureWarning: Calling float on a single element Series is deprecated and will raise a TypeError in the future. Use float(ser.iloc[0]) instead\n",
      "  y_hat = float(model_i.predict(x_test))\n",
      "C:\\Users\\sshan\\AppData\\Local\\Temp\\ipykernel_14888\\285003172.py:28: FutureWarning: Calling float on a single element Series is deprecated and will raise a TypeError in the future. Use float(ser.iloc[0]) instead\n",
      "  y_hat = float(model_i.predict(x_test))\n",
      "C:\\Users\\sshan\\AppData\\Local\\Temp\\ipykernel_14888\\285003172.py:28: FutureWarning: Calling float on a single element Series is deprecated and will raise a TypeError in the future. Use float(ser.iloc[0]) instead\n",
      "  y_hat = float(model_i.predict(x_test))\n",
      "C:\\Users\\sshan\\AppData\\Local\\Temp\\ipykernel_14888\\285003172.py:28: FutureWarning: Calling float on a single element Series is deprecated and will raise a TypeError in the future. Use float(ser.iloc[0]) instead\n",
      "  y_hat = float(model_i.predict(x_test))\n",
      "C:\\Users\\sshan\\AppData\\Local\\Temp\\ipykernel_14888\\285003172.py:28: FutureWarning: Calling float on a single element Series is deprecated and will raise a TypeError in the future. Use float(ser.iloc[0]) instead\n",
      "  y_hat = float(model_i.predict(x_test))\n",
      "C:\\Users\\sshan\\AppData\\Local\\Temp\\ipykernel_14888\\285003172.py:28: FutureWarning: Calling float on a single element Series is deprecated and will raise a TypeError in the future. Use float(ser.iloc[0]) instead\n",
      "  y_hat = float(model_i.predict(x_test))\n",
      "C:\\Users\\sshan\\AppData\\Local\\Temp\\ipykernel_14888\\285003172.py:28: FutureWarning: Calling float on a single element Series is deprecated and will raise a TypeError in the future. Use float(ser.iloc[0]) instead\n",
      "  y_hat = float(model_i.predict(x_test))\n",
      "C:\\Users\\sshan\\AppData\\Local\\Temp\\ipykernel_14888\\285003172.py:28: FutureWarning: Calling float on a single element Series is deprecated and will raise a TypeError in the future. Use float(ser.iloc[0]) instead\n",
      "  y_hat = float(model_i.predict(x_test))\n"
     ]
    }
   ],
   "source": [
    "import pandas as pd\n",
    "import statsmodels.api as sm\n",
    "import numpy as np\n",
    "\n",
    "df = pd.read_excel(r\"C:\\Users\\sshan\\Desktop\\DS\\Project 4\\State export.xlsx\", sheet_name = \"Main\")\n",
    "df = df.iloc[3:].reset_index(drop = True)\n",
    "df[\"PR\"] = df[\"HRC\"]*0.1-df[\"MPRC\"]*0.8-df[\"PRC\"]*0.1\n",
    "\n",
    "y_col = \"Haryana % share\"\n",
    "x_cols = [\"Haryana share lag\",\"PR\",\"HS diff lag\"]\n",
    "\n",
    "y_true = []\n",
    "y_pred = []\n",
    "\n",
    "#Leave one out cross validation\n",
    "for i in range(len(df)):\n",
    "    train = df.drop(i).reset_index(drop = True)\n",
    "    test = df.iloc[[i]].reset_index(drop = True)\n",
    "\n",
    "    x_train = sm.add_constant(train[x_cols], has_constant = \"add\")\n",
    "    y_train = train[y_col]\n",
    "\n",
    "    x_test = sm.add_constant(test[x_cols], has_constant = \"add\")\n",
    "    y_test = test[y_col].iloc[0]\n",
    "\n",
    "    model_i = sm.OLS(y_train, x_train).fit()\n",
    "\n",
    "    y_hat = float(model_i.predict(x_test))\n",
    "    y_true.append(y_test)\n",
    "    y_pred.append(y_hat)\n",
    "\n",
    "error = np.array(y_true) - np.array(y_pred)\n",
    "mse = np.mean(error**2)\n",
    "rmse = np.sqrt(mse)\n",
    "\n",
    "print(f\"LOOCV mse: {mse:.4f}\")\n",
    "print(f\"LOOCV rmse: {rmse:.4f}\")\n",
    "\n",
    "result_df = pd.DataFrame({\"Actual\": y_true, \"Pred\": y_pred})\n",
    "print(result_df)"
   ]
  },
  {
   "cell_type": "code",
   "execution_count": null,
   "id": "dd63e9c7-8041-4725-84fa-8523e731a757",
   "metadata": {},
   "outputs": [],
   "source": []
  }
 ],
 "metadata": {
  "kernelspec": {
   "display_name": "Python [conda env:base] *",
   "language": "python",
   "name": "conda-base-py"
  },
  "language_info": {
   "codemirror_mode": {
    "name": "ipython",
    "version": 3
   },
   "file_extension": ".py",
   "mimetype": "text/x-python",
   "name": "python",
   "nbconvert_exporter": "python",
   "pygments_lexer": "ipython3",
   "version": "3.12.7"
  }
 },
 "nbformat": 4,
 "nbformat_minor": 5
}
