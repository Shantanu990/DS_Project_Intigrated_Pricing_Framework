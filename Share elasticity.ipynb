{
 "cells": [
  {
   "cell_type": "code",
   "execution_count": 719,
   "id": "67b0c4f2-bfec-4beb-a491-6c08fe58d3d1",
   "metadata": {},
   "outputs": [
    {
     "name": "stdout",
     "output_type": "stream",
     "text": [
      "Share regression:\n",
      "                            OLS Regression Results                            \n",
      "==============================================================================\n",
      "Dep. Variable:        Haryana % share   R-squared:                       0.940\n",
      "Model:                            OLS   Adj. R-squared:                  0.915\n",
      "Method:                 Least Squares   F-statistic:                     36.82\n",
      "Date:                Sat, 04 Oct 2025   Prob (F-statistic):           0.000117\n",
      "Time:                        03:39:41   Log-Likelihood:                 26.895\n",
      "No. Observations:                  11   AIC:                            -45.79\n",
      "Df Residuals:                       7   BIC:                            -44.20\n",
      "Df Model:                           3                                         \n",
      "Covariance Type:            nonrobust                                         \n",
      "=====================================================================================\n",
      "                        coef    std err          t      P>|t|      [0.025      0.975]\n",
      "-------------------------------------------------------------------------------------\n",
      "const                 0.0773      0.022      3.540      0.009       0.026       0.129\n",
      "Haryana share lag     0.6869      0.087      7.865      0.000       0.480       0.893\n",
      "PR                   -0.3467      0.075     -4.633      0.002      -0.524      -0.170\n",
      "HS diff lag           0.8944      0.190      4.705      0.002       0.445       1.344\n",
      "==============================================================================\n",
      "Omnibus:                        0.920   Durbin-Watson:                   3.090\n",
      "Prob(Omnibus):                  0.631   Jarque-Bera (JB):                0.753\n",
      "Skew:                          -0.519   Prob(JB):                        0.686\n",
      "Kurtosis:                       2.248   Cond. No.                         25.4\n",
      "==============================================================================\n",
      "\n",
      "Notes:\n",
      "[1] Standard Errors assume that the covariance matrix of the errors is correctly specified.\n",
      "Share parameters:\n",
      "{'const': 0.07733334147940538, 'Haryana share lag': 0.6868533487250599, 'PR': -0.34673595958984976, 'HS diff lag': 0.8943988249500319}\n",
      "                      const  Haryana share lag        PR  HS diff lag\n",
      "const              0.000477          -0.001764 -0.000078     0.000404\n",
      "Haryana share lag -0.001764           0.007627  0.000535    -0.003694\n",
      "PR                -0.000078           0.000535  0.005601    -0.007415\n",
      "HS diff lag        0.000404          -0.003694 -0.007415     0.036133\n"
     ]
    },
    {
     "name": "stderr",
     "output_type": "stream",
     "text": [
      "C:\\Users\\sshan\\anaconda3\\Lib\\site-packages\\scipy\\stats\\_axis_nan_policy.py:531: UserWarning: kurtosistest only valid for n>=20 ... continuing anyway, n=11\n",
      "  res = hypotest_fun_out(*samples, **kwds)\n"
     ]
    }
   ],
   "source": [
    "import pandas as pd\n",
    "import statsmodels.api as sm\n",
    "df = pd.read_excel(r\"C:\\Users\\sshan\\Desktop\\DS\\Project 4\\State export.xlsx\", sheet_name = \"Main\") # load dataset for state-level regression\n",
    "df = df.iloc[3:].reset_index(drop = True) # optional to ignore certain starting rows \n",
    "df[\"PR\"] = df[\"HRC\"]*0.1-df[\"MPRC\"]*0.8-df[\"PRC\"]*0.1 # create a composite price change variable\n",
    "# define regression function\n",
    "def regression(y, Xvars):\n",
    "    X = df[Xvars]\n",
    "    X = sm.add_constant(X)\n",
    "    y = df[y]\n",
    "    model = sm.OLS(y,X).fit()\n",
    "    return model\n",
    "Share_model = regression(\"Haryana % share\", [\"Haryana share lag\",\"PR\",\"HS diff lag\"]) # pass variables and execute regression\n",
    "cov_matrix = Share_model.cov_params()\n",
    "print(\"Share regression:\")\n",
    "print(Share_model.summary())\n",
    "print(\"Share parameters:\")\n",
    "print(Share_model.params.to_dict())\n",
    "print(cov_matrix)"
   ]
  },
  {
   "cell_type": "code",
   "execution_count": 841,
   "id": "a8b26e66-5108-44b9-a3ca-cb3153840aad",
   "metadata": {},
   "outputs": [
    {
     "name": "stdout",
     "output_type": "stream",
     "text": [
      "Share regression:\n",
      "                            OLS Regression Results                            \n",
      "==============================================================================\n",
      "Dep. Variable:             MP % share   R-squared:                       0.884\n",
      "Model:                            OLS   Adj. R-squared:                  0.835\n",
      "Method:                 Least Squares   F-statistic:                     17.87\n",
      "Date:                Thu, 09 Oct 2025   Prob (F-statistic):            0.00116\n",
      "Time:                        08:16:30   Log-Likelihood:                 29.265\n",
      "No. Observations:                  11   AIC:                            -50.53\n",
      "Df Residuals:                       7   BIC:                            -48.94\n",
      "Df Model:                           3                                         \n",
      "Covariance Type:            nonrobust                                         \n",
      "================================================================================\n",
      "                   coef    std err          t      P>|t|      [0.025      0.975]\n",
      "--------------------------------------------------------------------------------\n",
      "const            0.1553      0.053      2.922      0.022       0.030       0.281\n",
      "MP share lag     0.6630      0.137      4.855      0.002       0.340       0.986\n",
      "HSC             -0.7364      0.124     -5.924      0.001      -1.030      -0.442\n",
      "MPS diff lag    -0.1563      0.087     -1.800      0.115      -0.362       0.049\n",
      "==============================================================================\n",
      "Omnibus:                        0.418   Durbin-Watson:                   2.046\n",
      "Prob(Omnibus):                  0.811   Jarque-Bera (JB):                0.489\n",
      "Skew:                           0.152   Prob(JB):                        0.783\n",
      "Kurtosis:                       2.013   Cond. No.                         25.2\n",
      "==============================================================================\n",
      "\n",
      "Notes:\n",
      "[1] Standard Errors assume that the covariance matrix of the errors is correctly specified.\n",
      "Share parameters:\n",
      "{'const': 0.15525705659831263, 'MP share lag': 0.6629757440485329, 'HSC': -0.7363503679229529, 'MPS diff lag': -0.15631826828587192}\n",
      "                 const  MP share lag       HSC  MPS diff lag\n",
      "const         0.002823     -0.007194  0.000752      0.000370\n",
      "MP share lag -0.007194      0.018648 -0.002413     -0.001458\n",
      "HSC           0.000752     -0.002413  0.015449     -0.000266\n",
      "MPS diff lag  0.000370     -0.001458 -0.000266      0.007541\n"
     ]
    },
    {
     "name": "stderr",
     "output_type": "stream",
     "text": [
      "C:\\Users\\sshan\\anaconda3\\Lib\\site-packages\\scipy\\stats\\_axis_nan_policy.py:531: UserWarning: kurtosistest only valid for n>=20 ... continuing anyway, n=11\n",
      "  res = hypotest_fun_out(*samples, **kwds)\n"
     ]
    }
   ],
   "source": [
    "import pandas as pd\n",
    "import statsmodels.api as sm\n",
    "df = pd.read_excel(r\"C:\\Users\\sshan\\Desktop\\DS\\Project 4\\State export.xlsx\", sheet_name = \"Main\")\n",
    "df = df.iloc[3:].reset_index(drop = True)\n",
    "df[\"PR\"] = df[\"MPRC\"]*0.7-df[\"PRC\"]*0.1-df[\"HRC\"]*0.2\n",
    "df[\"MP diff\"] = df[\"MP rate\"]-df[\"Punjab rate\"]\n",
    "def regression(y, Xvars):\n",
    "    X = df[Xvars]\n",
    "    X = sm.add_constant(X)\n",
    "    y = df[y]\n",
    "    model = sm.OLS(y,X).fit()\n",
    "    return model\n",
    "Share_model = regression(\"MP % share\", [\"MP share lag\",\"HSC\",\"MPS diff lag\"])\n",
    "cov_matrix = Share_model.cov_params()\n",
    "print(\"Share regression:\")\n",
    "print(Share_model.summary())\n",
    "print(\"Share parameters:\")\n",
    "print(Share_model.params.to_dict())\n",
    "print(cov_matrix)"
   ]
  },
  {
   "cell_type": "code",
   "execution_count": 835,
   "id": "051d6c93-4da0-49b1-a226-1198f34ece3a",
   "metadata": {},
   "outputs": [
    {
     "data": {
      "text/plain": [
       "-0.16755596641423218"
      ]
     },
     "execution_count": 835,
     "metadata": {},
     "output_type": "execute_result"
    }
   ],
   "source": [
    "df[\"Haryana % share\"].corr(df[\"MP % share\"])"
   ]
  }
 ],
 "metadata": {
  "kernelspec": {
   "display_name": "Python [conda env:base] *",
   "language": "python",
   "name": "conda-base-py"
  },
  "language_info": {
   "codemirror_mode": {
    "name": "ipython",
    "version": 3
   },
   "file_extension": ".py",
   "mimetype": "text/x-python",
   "name": "python",
   "nbconvert_exporter": "python",
   "pygments_lexer": "ipython3",
   "version": "3.12.7"
  }
 },
 "nbformat": 4,
 "nbformat_minor": 5
}
