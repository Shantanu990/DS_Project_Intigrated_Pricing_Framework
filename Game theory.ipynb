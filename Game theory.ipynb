{
 "cells": [
  {
   "cell_type": "code",
   "execution_count": 29,
   "id": "2bb38342-c773-4f9a-bf90-d70aed9651e1",
   "metadata": {},
   "outputs": [
    {
     "name": "stdout",
     "output_type": "stream",
     "text": [
      "Game representation:\n",
      "Bi matrix game with payoff matrices:\n",
      "\n",
      "Row player:\n",
      "[[0.38 0.73 1.01]\n",
      " [0.31 0.64 0.92]\n",
      " [0.41 0.75 1.04]]\n",
      "\n",
      "Column player:\n",
      "[[0.47 0.54 0.57]\n",
      " [0.39 0.45 0.49]\n",
      " [0.5  0.57 0.61]]\n",
      "\n",
      "Nash Equilibria:\n",
      "(array([0., 0., 1.]), array([0., 0., 1.]))\n"
     ]
    }
   ],
   "source": [
    "import nashpy as nash\n",
    "import numpy as np\n",
    "from sklearn.preprocessing import MinMaxScaler\n",
    "\n",
    "H = np.array([[0.38, 0.73, 1.01], \n",
    "              [0.31, 0.64, 0.92], \n",
    "              [0.41, 0.75, 1.04]]) # Haryana data\n",
    "\n",
    "MP = np.array([[0.47, 0.54, 0.57], \n",
    "               [0.39, 0.45, 0.49], \n",
    "               [0.50, 0.57, 0.61]]) # MP data\n",
    "\n",
    "game = nash.Game(H,MP) # Create 2 player game\n",
    "\n",
    "print(\"Game representation:\")\n",
    "print(game)\n",
    "\n",
    "equilibria = game.support_enumeration() # Find equilibrium\n",
    "\n",
    "print(\"\\nNash Equilibria:\")\n",
    "for eq in equilibria:\n",
    "    print(eq)"
   ]
  },
  {
   "cell_type": "code",
   "execution_count": 11,
   "id": "b0a2a4b0-5666-4476-b009-ee7db8d1d5c4",
   "metadata": {},
   "outputs": [
    {
     "name": "stdout",
     "output_type": "stream",
     "text": [
      "Collecting nashpy\n",
      "  Downloading nashpy-0.0.41-py3-none-any.whl.metadata (6.6 kB)\n",
      "Requirement already satisfied: numpy>=1.21.0 in c:\\users\\sshan\\anaconda3\\lib\\site-packages (from nashpy) (1.26.4)\n",
      "Requirement already satisfied: scipy>=0.19.0 in c:\\users\\sshan\\anaconda3\\lib\\site-packages (from nashpy) (1.13.1)\n",
      "Requirement already satisfied: networkx>=3.0.0 in c:\\users\\sshan\\anaconda3\\lib\\site-packages (from nashpy) (3.3)\n",
      "Collecting deprecated>=1.2.14 (from nashpy)\n",
      "  Downloading Deprecated-1.2.18-py2.py3-none-any.whl.metadata (5.7 kB)\n",
      "Requirement already satisfied: wrapt<2,>=1.10 in c:\\users\\sshan\\anaconda3\\lib\\site-packages (from deprecated>=1.2.14->nashpy) (1.14.1)\n",
      "Downloading nashpy-0.0.41-py3-none-any.whl (27 kB)\n",
      "Downloading Deprecated-1.2.18-py2.py3-none-any.whl (10.0 kB)\n",
      "Installing collected packages: deprecated, nashpy\n",
      "Successfully installed deprecated-1.2.18 nashpy-0.0.41\n"
     ]
    },
    {
     "name": "stderr",
     "output_type": "stream",
     "text": [
      "\n",
      "[notice] A new release of pip is available: 23.3.1 -> 25.2\n",
      "[notice] To update, run: python.exe -m pip install --upgrade pip\n"
     ]
    }
   ],
   "source": [
    "!pip install nashpy"
   ]
  }
 ],
 "metadata": {
  "kernelspec": {
   "display_name": "Python [conda env:base] *",
   "language": "python",
   "name": "conda-base-py"
  },
  "language_info": {
   "codemirror_mode": {
    "name": "ipython",
    "version": 3
   },
   "file_extension": ".py",
   "mimetype": "text/x-python",
   "name": "python",
   "nbconvert_exporter": "python",
   "pygments_lexer": "ipython3",
   "version": "3.12.7"
  }
 },
 "nbformat": 4,
 "nbformat_minor": 5
}
